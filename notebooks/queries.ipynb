{
  "cells": [
    {
      "cell_type": "markdown",
      "metadata": {},
      "source": [
        "## Zapytanie: Jakie hotele oferuje Margie’s Travel w Dubaju?\n"
      ]
    },
    {
      "cell_type": "code",
      "metadata": {},
      "source": [
        "# 🔍 Wektorowe wyszukiwanie\n",
        "result_vector = \"Margie\\u2019s Travel oferuje nast\\u0119puj\\u0105ce hotele w Dubaju [doc2]:\\n\\n- **The Creek Hotel**: Przyjazny butikowy hotel w sercu t\\u0119tni\\u0105cej \\u017cyciem okolicy Dubai Creek.  \\n- **The Deira Hotel**: Rodzinny hotel w tradycyjnym centrum handlowym Dubaju.  \\n- **The Lost City Hotel**: Luksusowe zakwaterowanie w Dubaju, z w\\u0142asnym parkiem wodnym i akwarium.  \\n\\nAby zarezerwowa\\u0107 podr\\u00f3\\u017c do Dubaju, odwied\\u017a stron\\u0119 www.margiestravel.com [doc2].\""
      ],
      "execution_count": null,
      "outputs": []
    },
    {
      "cell_type": "code",
      "metadata": {},
      "source": [
        "# 🔎 Semantyczne wyszukiwanie\n",
        "result_semantic = \"Margie\\u2019s Travel oferuje nast\\u0119puj\\u0105ce hotele w Dubaju:\\n\\n1. **The Creek Hotel** - Przyjazny butikowy hotel w sercu t\\u0119tni\\u0105cej \\u017cyciem okolicy Dubai Creek. [doc1]  \\n2. **The Deira Hotel** - Rodzinny hotel w tradycyjnym centrum handlowym Dubaju. [doc1]  \\n3. **The Lost City Hotel** - Luksusowy hotel w Dubaju, oferuj\\u0105cy park wodny i akwarium na miejscu. [doc1]  \\n\\nAby zarezerwowa\\u0107 podr\\u00f3\\u017c do Dubaju, odwied\\u017a stron\\u0119 [www.margiestravel.com](http://www.margiestravel.com). [doc1]\""
      ],
      "execution_count": null,
      "outputs": []
    }
  ],
  "metadata": {
    "kernelspec": {
      "display_name": "Python 3",
      "language": "python",
      "name": "python3"
    },
    "language_info": {
      "name": "python",
      "version": "3.11"
    }
  },
  "nbformat": 4,
  "nbformat_minor": 5
}